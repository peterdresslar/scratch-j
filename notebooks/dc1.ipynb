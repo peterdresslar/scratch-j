{
 "cells": [
  {
   "cell_type": "code",
   "execution_count": 9,
   "metadata": {},
   "outputs": [
    {
     "name": "stdout",
     "output_type": "stream",
     "text": [
      "Your previous grades were D\n",
      "Your new grades are AAAA\n"
     ]
    }
   ],
   "source": [
    "# assign some values to the vector X\n",
    "grades_array = [\"A\", \"B\", \"C\", \"D\", \"E\"]\n",
    "# Write a grade mutating function\n",
    "function topstudent!(x)\n",
    "\tx[4] = \"AAAA\"\n",
    "end\n",
    "\n",
    "println(\"Your previous grades were $(grades_array[4])\")\n",
    "\n",
    "# Call the function on grades_array\n",
    "topstudent!(grades_array)\n",
    "\n",
    "println(\"Your new grades are $(grades_array[4])\")"
   ]
  },
  {
   "cell_type": "code",
   "execution_count": 10,
   "metadata": {},
   "outputs": [
    {
     "name": "stdout",
     "output_type": "stream",
     "text": [
      "Your previous grades were AAAA\n",
      "Your new grades are AAAA\n"
     ]
    }
   ],
   "source": [
    "# non mutating function, more expensive\n",
    "\n",
    "grades_array2 = [\"A\", \"B\", \"C\", \"D\", \"E\"]\n",
    "\n",
    "function topstudent(x)\n",
    "\tx[4] = \"AAAA\"\n",
    "    return x # this is a new copy of x\n",
    "end\n",
    "\n",
    "println(\"Your previous grades were $(grades_array2[4])\")\n",
    "\n",
    "grades_array2 = topstudent(grades_array2)\n",
    "\n",
    "println(\"Your new grades are $(grades_array2[4])\")\n"
   ]
  }
 ],
 "metadata": {
  "kernelspec": {
   "display_name": "Julia 1.11.5",
   "language": "julia",
   "name": "julia-1.11"
  },
  "language_info": {
   "file_extension": ".jl",
   "mimetype": "application/julia",
   "name": "julia",
   "version": "1.11.5"
  }
 },
 "nbformat": 4,
 "nbformat_minor": 2
}
