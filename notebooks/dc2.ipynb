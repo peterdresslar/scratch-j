{
 "cells": [
  {
   "cell_type": "code",
   "execution_count": 2,
   "metadata": {},
   "outputs": [
    {
     "data": {
      "text/plain": [
       "45-element Vector{String}:\n",
       " \"AAPL\"\n",
       " \"MSFT\"\n",
       " \"GOOG\"\n",
       " \"AMZN\"\n",
       " \"TSLA\"\n",
       " \"NVDA\"\n",
       " \"WMT\"\n",
       " \"JNJ\"\n",
       " \"VZ\"\n",
       " \"IBM\"\n",
       " ⋮\n",
       " \"NKE\"\n",
       " \"PFE\"\n",
       " \"PG\"\n",
       " \"RTX\"\n",
       " \"VZ\"\n",
       " \"WMT\"\n",
       " \"WDAY\"\n",
       " \"XOM\"\n",
       " \"ZM\""
      ]
     },
     "metadata": {},
     "output_type": "display_data"
    }
   ],
   "source": [
    "using CSV\n",
    "using DataFrames\n",
    "using Statistics\n",
    "using Dates\n",
    "\n",
    "\n",
    "my_stock_names = [\n",
    "    \"AAPL\",\n",
    "    \"MSFT\",\n",
    "    \"GOOG\",\n",
    "    \"AMZN\",\n",
    "    \"TSLA\",\n",
    "    \"NVDA\",\n",
    "    \"WMT\",\n",
    "    \"JNJ\",\n",
    "    \"VZ\",\n",
    "    \"IBM\",\n",
    "    \"MMM\",\n",
    "    \"NFLX\",\n",
    "    \"ORCL\",\n",
    "    \"QCOM\",\n",
    "    \"CRM\",\n",
    "    \"CSCO\",\n",
    "    \"CMCSA\",\n",
    "    \"TM\",\n",
    "    \"V\",\n",
    "    \"BA\",\n",
    "    \"CAT\",\n",
    "    \"CSX\",\n",
    "    \"DD\",\n",
    "    \"DOW\",\n",
    "    \"EMR\",\n",
    "    \"GS\",\n",
    "    \"HD\",\n",
    "    \"HON\",\n",
    "    \"IBM\",\n",
    "    \"JPM\",\n",
    "    \"KO\",\n",
    "    \"LLY\",\n",
    "    \"MCD\",\n",
    "    \"MMM\",\n",
    "    \"MRK\",\n",
    "    \"MS\",\n",
    "    \"NKE\",\n",
    "    \"PFE\",\n",
    "    \"PG\",\n",
    "    \"RTX\",\n",
    "    \"VZ\",\n",
    "    \"WMT\",\n",
    "    \"WDAY\",\n",
    "    \"XOM\",\n",
    "    \"ZM\"\n",
    "]"
   ]
  },
  {
   "cell_type": "code",
   "execution_count": 3,
   "metadata": {},
   "outputs": [
    {
     "name": "stdout",
     "output_type": "stream",
     "text": [
      "AAPL\n",
      "1\n",
      "2\n",
      "3\n",
      "4\n",
      "5\n"
     ]
    }
   ],
   "source": [
    "for v in my_stock_names\n",
    "    println(v)\n",
    "    if v == \"AAPL\"\n",
    "        break\n",
    "    end\n",
    "end\n",
    "\n",
    "for (v, i) in enumerate(my_stock_names)\n",
    "    println(v)\n",
    "    if v > 4\n",
    "        break\n",
    "    end\n",
    "end\n",
    "\n"
   ]
  },
  {
   "cell_type": "code",
   "execution_count": 4,
   "metadata": {},
   "outputs": [
    {
     "name": "stdout",
     "output_type": "stream",
     "text": [
      "Vector{Any}[[\"AAPL\", 151], [\"AMZN\", 94], [\"GOOG\", 97], [\"MSFT\", 241]]\n",
      "AAPL is priced at 151\n",
      "AMZN is priced at 94\n",
      "GOOG is priced at 97\n",
      "MSFT is priced at 241\n"
     ]
    }
   ],
   "source": [
    "# vector of ticker and price (as Vector{Vector{Any}})\n",
    "stock_tickers::Vector{Vector{Any}} = [\n",
    "    [\"AAPL\", 151],\n",
    "    [\"AMZN\", 94],\n",
    "    [\"GOOG\", 97],\n",
    "    [\"MSFT\", 241],\n",
    "]\n",
    "\n",
    "println(stock_tickers)\n",
    "\n",
    "for (t, p) in stock_tickers\n",
    "    println(\"$(t) is priced at $(p)\")\n",
    "end\n"
   ]
  },
  {
   "cell_type": "code",
   "execution_count": 5,
   "metadata": {},
   "outputs": [
    {
     "name": "stdout",
     "output_type": "stream",
     "text": [
      "1\n",
      "3\n",
      "5\n",
      "7\n",
      "9\n",
      "1\n",
      "3\n",
      "5\n",
      "7\n",
      "9\n",
      "[1, 3, 5, 7, 9]\n"
     ]
    }
   ],
   "source": [
    "my_range = 1:2:10\n",
    "\n",
    "for i in my_range\n",
    "    println(i)\n",
    "end\n",
    "\n",
    "n = 1\n",
    "\n",
    "while n <= length(my_range)\n",
    "    println(my_range[n])\n",
    "    n += 1\n",
    "end\n",
    "\n",
    "\n",
    "println([my_range...])\n",
    "\n",
    "\n",
    "\n",
    "\n"
   ]
  },
  {
   "cell_type": "code",
   "execution_count": 6,
   "metadata": {},
   "outputs": [
    {
     "data": {
      "text/plain": [
       "30"
      ]
     },
     "metadata": {},
     "output_type": "display_data"
    }
   ],
   "source": [
    "# tuple of emergency_information with first_name, last_name, and age\n",
    "emergency_information::Tuple{String, String, Int} = (\"John\", \"Doe\", 30)\n",
    "\n",
    "emergency_information[3]\n"
   ]
  },
  {
   "cell_type": "code",
   "execution_count": 7,
   "metadata": {},
   "outputs": [
    {
     "name": "stdout",
     "output_type": "stream",
     "text": [
      "[\"price\", \"close\"]\n",
      "[151.5, 151.2]\n",
      "152.0\n"
     ]
    }
   ],
   "source": [
    "# dictionary of apple_stock_data with date and price\n",
    "apple_stock_data = Dict{String, Float64}(\"price\" => 151.5, \"close\" => 151.2)\n",
    "\n",
    "apple_stock_data[\"price\"]\n",
    "\n",
    "#print keys of apple_stock_data\n",
    "println(keys(apple_stock_data))\n",
    "\n",
    "#print values of apple_stock_data\n",
    "println(values(apple_stock_data))\n",
    "\n",
    "\n",
    "# change the price of apple_stock_data\n",
    "apple_stock_data[\"price\"] = 152.0\n",
    "\n",
    "# add a new key to apple_stock_data\n",
    "apple_stock_data[\"open\"] = 150.0\n",
    "\n",
    "# get the price key from apple_stock_data\n",
    "println(get(apple_stock_data, \"price\", 0.0))\n"
   ]
  },
  {
   "cell_type": "code",
   "execution_count": 8,
   "metadata": {},
   "outputs": [
    {
     "name": "stdout",
     "output_type": "stream",
     "text": [
      "2\n",
      "7\n",
      "8\n",
      "[7, 8, 9]\n",
      "[2, 5, 8]\n",
      "[\"AAPL\", \"MSFT\", \"GOOG\", \"AMZN\", \"TSLA\", \"NVDA\"]\n"
     ]
    }
   ],
   "source": [
    "# Create a 3x3 array\n",
    "my_array = [1 2 3 ; 4 5 6 ; 7 8 9]\n",
    "\n",
    "# Print the instructed values in my_array\n",
    "println(my_array[1,2])\n",
    "println(my_array[3,1])\n",
    "println(getindex(my_array, 3, 2))\n",
    "\n",
    "\n",
    "println(my_array[3,:])\n",
    "println(my_array[:,2])\n",
    "\n",
    "\n",
    "\n",
    "old_stonks = [\"AAPL\", \"MSFT\", \"GOOG\"]\n",
    "new_stonks = [\"AMZN\", \"TSLA\", \"NVDA\"]\n",
    "\n",
    "stonks = [old_stonks; new_stonks]\n",
    "\n",
    "println(stonks)\n",
    "\n"
   ]
  },
  {
   "cell_type": "code",
   "execution_count": null,
   "metadata": {},
   "outputs": [
    {
     "name": "stdout",
     "output_type": "stream",
     "text": [
      "2017.5\n"
     ]
    }
   ],
   "source": [
    "# simulated DataFrame\n",
    "# names Name, Platform, Year, Genre, Publisher\n",
    "\n",
    "video_game_data = DataFrame(\n",
    "    Name = [\"Super Mario Odyssey\", \"The Legend of Zelda: Breath of the Wild\", \"Red Dead Redemption 2\", \"God of War\", \"Minecraft\"],\n",
    "    Platform = [\"Nintendo Switch\", \"Nintendo Switch\", \"PlayStation 4\", \"PlayStation 4\", \"PC\"],\n",
    "    Year = [2017, 2017, 2018, 2018, missing],\n",
    "    Genre = [\"Platformer\", \"Action-adventure\", \"Action-adventure\", \"Action-adventure\", \"Sandbox\"],\n",
    "    North_American_Publisher = [\"Nintendo\", \"Nintendo\", \"Rockstar Games\", \"Sony Interactive Entertainment\", \"Mojang Studios\"]\n",
    ")\n",
    "\n",
    "rename!(video_game_data, \"North_American_Publisher\" => \"NA_Publisher\")\n",
    "\n",
    "# println(describe(video_game_data))\n",
    "\n",
    "# Define a function replace_missing that takes one argument, the name of the column we want to modify\n",
    "function replace_missing(column_name)\n",
    "\t# Calculate the average of all non-missing values in the column, in the DataFrame video_game_data\n",
    "       mean_value = mean(skipmissing(video_game_data[!, column_name]))\n",
    "       println(mean_value)\n",
    "    # now, replace all missing values in the column with the mean value\n",
    "    video_game_data[!, column_name] = coalesce.(video_game_data[!, column_name], mean_value)\n",
    "end\n",
    "\n",
    "replace_missing(\"Year\")\n",
    "\n",
    "\n",
    "\n",
    "\n",
    "\n"
   ]
  }
 ],
 "metadata": {
  "kernelspec": {
   "display_name": "Julia 1.11.5",
   "language": "julia",
   "name": "julia-1.11"
  },
  "language_info": {
   "file_extension": ".jl",
   "mimetype": "application/julia",
   "name": "julia",
   "version": "1.11.5"
  }
 },
 "nbformat": 4,
 "nbformat_minor": 2
}
