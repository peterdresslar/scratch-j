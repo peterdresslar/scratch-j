{
 "cells": [
  {
   "cell_type": "code",
   "execution_count": 1,
   "metadata": {},
   "outputs": [
    {
     "data": {
      "text/plain": [
       "45-element Vector{String}:\n",
       " \"AAPL\"\n",
       " \"MSFT\"\n",
       " \"GOOG\"\n",
       " \"AMZN\"\n",
       " \"TSLA\"\n",
       " \"NVDA\"\n",
       " \"WMT\"\n",
       " \"JNJ\"\n",
       " \"VZ\"\n",
       " \"IBM\"\n",
       " ⋮\n",
       " \"NKE\"\n",
       " \"PFE\"\n",
       " \"PG\"\n",
       " \"RTX\"\n",
       " \"VZ\"\n",
       " \"WMT\"\n",
       " \"WDAY\"\n",
       " \"XOM\"\n",
       " \"ZM\""
      ]
     },
     "metadata": {},
     "output_type": "display_data"
    }
   ],
   "source": [
    "using CSV\n",
    "using DataFrames\n",
    "using Statistics\n",
    "\n",
    "\n",
    "my_stock_names = [\n",
    "    \"AAPL\",\n",
    "    \"MSFT\",\n",
    "    \"GOOG\",\n",
    "    \"AMZN\",\n",
    "    \"TSLA\",\n",
    "    \"NVDA\",\n",
    "    \"WMT\",\n",
    "    \"JNJ\",\n",
    "    \"VZ\",\n",
    "    \"IBM\",\n",
    "    \"MMM\",\n",
    "    \"NFLX\",\n",
    "    \"ORCL\",\n",
    "    \"QCOM\",\n",
    "    \"CRM\",\n",
    "    \"CSCO\",\n",
    "    \"CMCSA\",\n",
    "    \"TM\",\n",
    "    \"V\",\n",
    "    \"BA\",\n",
    "    \"CAT\",\n",
    "    \"CSX\",\n",
    "    \"DD\",\n",
    "    \"DOW\",\n",
    "    \"EMR\",\n",
    "    \"GS\",\n",
    "    \"HD\",\n",
    "    \"HON\",\n",
    "    \"IBM\",\n",
    "    \"JPM\",\n",
    "    \"KO\",\n",
    "    \"LLY\",\n",
    "    \"MCD\",\n",
    "    \"MMM\",\n",
    "    \"MRK\",\n",
    "    \"MS\",\n",
    "    \"NKE\",\n",
    "    \"PFE\",\n",
    "    \"PG\",\n",
    "    \"RTX\",\n",
    "    \"VZ\",\n",
    "    \"WMT\",\n",
    "    \"WDAY\",\n",
    "    \"XOM\",\n",
    "    \"ZM\"\n",
    "]"
   ]
  },
  {
   "cell_type": "code",
   "execution_count": null,
   "metadata": {},
   "outputs": [
    {
     "name": "stdout",
     "output_type": "stream",
     "text": [
      "AAPL\n",
      "1\n",
      "2\n",
      "3\n",
      "4\n",
      "5\n"
     ]
    }
   ],
   "source": [
    "for v in my_stock_names\n",
    "    println(v)\n",
    "    if v == \"AAPL\"\n",
    "        break\n",
    "    end\n",
    "end\n",
    "\n",
    "for (v, i) in enumerate(my_stock_names)\n",
    "    println(v)\n",
    "    if v > 4\n",
    "        break\n",
    "    end\n",
    "end\n",
    "\n"
   ]
  },
  {
   "cell_type": "code",
   "execution_count": 18,
   "metadata": {},
   "outputs": [
    {
     "name": "stdout",
     "output_type": "stream",
     "text": [
      "Vector{Any}[[\"AAPL\", 151], [\"AMZN\", 94], [\"GOOG\", 97], [\"MSFT\", 241]]\n",
      "AAPL is priced at 151\n",
      "AMZN is priced at 94\n",
      "GOOG is priced at 97\n",
      "MSFT is priced at 241\n"
     ]
    }
   ],
   "source": [
    "# vector of ticker and price (as Vector{Vector{Any}})\n",
    "stock_tickers::Vector{Vector{Any}} = [\n",
    "    [\"AAPL\", 151],\n",
    "    [\"AMZN\", 94],\n",
    "    [\"GOOG\", 97],\n",
    "    [\"MSFT\", 241],\n",
    "]\n",
    "\n",
    "println(stock_tickers)\n",
    "\n",
    "for (t, p) in stock_tickers\n",
    "    println(\"$(t) is priced at $(p)\")\n",
    "end\n"
   ]
  },
  {
   "cell_type": "code",
   "execution_count": 22,
   "metadata": {},
   "outputs": [
    {
     "name": "stdout",
     "output_type": "stream",
     "text": [
      "1\n",
      "3\n",
      "5\n",
      "7\n",
      "9\n",
      "1\n",
      "3\n",
      "5\n",
      "7\n",
      "9\n",
      "[1, 3, 5, 7, 9]\n"
     ]
    }
   ],
   "source": [
    "my_range = 1:2:10\n",
    "\n",
    "for i in my_range\n",
    "    println(i)\n",
    "end\n",
    "\n",
    "n = 1\n",
    "\n",
    "while n <= length(my_range)\n",
    "    println(my_range[n])\n",
    "    n += 1\n",
    "end\n",
    "\n",
    "\n",
    "println([my_range...])\n",
    "\n",
    "\n",
    "\n",
    "\n",
    "\n",
    "\n",
    "\n"
   ]
  }
 ],
 "metadata": {
  "kernelspec": {
   "display_name": "Julia 1.11.5",
   "language": "julia",
   "name": "julia-1.11"
  },
  "language_info": {
   "file_extension": ".jl",
   "mimetype": "application/julia",
   "name": "julia",
   "version": "1.11.5"
  }
 },
 "nbformat": 4,
 "nbformat_minor": 2
}
