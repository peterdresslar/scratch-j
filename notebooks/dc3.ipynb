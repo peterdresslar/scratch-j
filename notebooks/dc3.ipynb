{
 "cells": [
  {
   "cell_type": "code",
   "execution_count": null,
   "metadata": {},
   "outputs": [],
   "source": [
    "using RCall\n",
    "using DataFrames\n",
    "using Plots\n",
    "\n",
    "# Set CRAN mirror and install package\n",
    "R\"\"\"\n",
    "options(repos = c(CRAN = \"https://cloud.r-project.org\"))\n",
    "if (!require('palmerpenguins')) install.packages('palmerpenguins')\n",
    "library(palmerpenguins)\n",
    "\"\"\"\n",
    "\n",
    "# Get the penguins dataset into Julia\n",
    "penguins = rcopy(R\"penguins\")\n",
    "\n",
    "# so data, so adorable\n",
    " println(describe(penguins))\n",
    "\n",
    "# just species\n",
    "s = penguins[:, :species]\n",
    "\n",
    "cols = penguins[:, [:species, :island, :sex]]\n",
    "\n",
    "describe(cols)\n",
    "\n",
    "reviews_locations = select(penguins, Cols(startswith(\"bill\")))\n",
    "\n",
    "describe(reviews_locations)\n",
    "\n",
    "scatter(penguins[:, :bill_length_mm], penguins[:, :bill_depth_mm], group=penguins[:, :species])\n",
    "\n"
   ]
  },
  {
   "cell_type": "code",
   "execution_count": 26,
   "metadata": {},
   "outputs": [
    {
     "data": {
      "text/html": [
       "<div><div style = \"float: left;\"><span>6×7 DataFrame</span></div><div style = \"clear: both;\"></div></div><div class = \"data-frame\" style = \"overflow-x: scroll;\"><table class = \"data-frame\" style = \"margin-bottom: 6px;\"><thead><tr class = \"header\"><th class = \"rowNumber\" style = \"font-weight: bold; text-align: right;\">Row</th><th style = \"text-align: left;\">variable</th><th style = \"text-align: left;\">mean</th><th style = \"text-align: left;\">min</th><th style = \"text-align: left;\">median</th><th style = \"text-align: left;\">max</th><th style = \"text-align: left;\">nmissing</th><th style = \"text-align: left;\">eltype</th></tr><tr class = \"subheader headerLastRow\"><th class = \"rowNumber\" style = \"font-weight: bold; text-align: right;\"></th><th title = \"Symbol\" style = \"text-align: left;\">Symbol</th><th title = \"Union{Nothing, Float64}\" style = \"text-align: left;\">Union…</th><th title = \"Any\" style = \"text-align: left;\">Any</th><th title = \"Union{Nothing, Float64}\" style = \"text-align: left;\">Union…</th><th title = \"Any\" style = \"text-align: left;\">Any</th><th title = \"Int64\" style = \"text-align: left;\">Int64</th><th title = \"Type\" style = \"text-align: left;\">Type</th></tr></thead><tbody><tr><td class = \"rowNumber\" style = \"font-weight: bold; text-align: right;\">1</td><td style = \"text-align: left;\">species</td><td style = \"font-style: italic; text-align: left;\"></td><td style = \"text-align: left;\">Adelie</td><td style = \"font-style: italic; text-align: left;\"></td><td style = \"text-align: left;\">Gentoo</td><td style = \"text-align: right;\">0</td><td style = \"text-align: left;\">CategoricalValue{String, UInt32}</td></tr><tr><td class = \"rowNumber\" style = \"font-weight: bold; text-align: right;\">2</td><td style = \"text-align: left;\">island</td><td style = \"font-style: italic; text-align: left;\"></td><td style = \"text-align: left;\">Biscoe</td><td style = \"font-style: italic; text-align: left;\"></td><td style = \"text-align: left;\">Torgersen</td><td style = \"text-align: right;\">0</td><td style = \"text-align: left;\">CategoricalValue{String, UInt32}</td></tr><tr><td class = \"rowNumber\" style = \"font-weight: bold; text-align: right;\">3</td><td style = \"text-align: left;\">sex</td><td style = \"font-style: italic; text-align: left;\"></td><td style = \"text-align: left;\">female</td><td style = \"font-style: italic; text-align: left;\"></td><td style = \"text-align: left;\">male</td><td style = \"text-align: right;\">11</td><td style = \"text-align: left;\">Union{Missing, CategoricalValue{String, UInt32}}</td></tr><tr><td class = \"rowNumber\" style = \"font-weight: bold; text-align: right;\">4</td><td style = \"text-align: left;\">bill_length_mm</td><td style = \"text-align: left;\">43.9219</td><td style = \"text-align: left;\">32.1</td><td style = \"text-align: left;\">44.45</td><td style = \"text-align: left;\">59.6</td><td style = \"text-align: right;\">2</td><td style = \"text-align: left;\">Union{Missing, Float64}</td></tr><tr><td class = \"rowNumber\" style = \"font-weight: bold; text-align: right;\">5</td><td style = \"text-align: left;\">bill_depth_mm</td><td style = \"text-align: left;\">17.1512</td><td style = \"text-align: left;\">13.1</td><td style = \"text-align: left;\">17.3</td><td style = \"text-align: left;\">21.5</td><td style = \"text-align: right;\">2</td><td style = \"text-align: left;\">Union{Missing, Float64}</td></tr><tr><td class = \"rowNumber\" style = \"font-weight: bold; text-align: right;\">6</td><td style = \"text-align: left;\">body_mass_g</td><td style = \"text-align: left;\">4201.75</td><td style = \"text-align: left;\">2700</td><td style = \"text-align: left;\">4050.0</td><td style = \"text-align: left;\">6300</td><td style = \"text-align: right;\">2</td><td style = \"text-align: left;\">Union{Missing, Int64}</td></tr></tbody></table></div>"
      ],
      "text/latex": [
       "\\begin{tabular}{r|ccccccc}\n",
       "\t& variable & mean & min & median & max & nmissing & eltype\\\\\n",
       "\t\\hline\n",
       "\t& Symbol & Union… & Any & Union… & Any & Int64 & Type\\\\\n",
       "\t\\hline\n",
       "\t1 & species &  & Adelie &  & Gentoo & 0 & CategoricalValue\\{String, UInt32\\} \\\\\n",
       "\t2 & island &  & Biscoe &  & Torgersen & 0 & CategoricalValue\\{String, UInt32\\} \\\\\n",
       "\t3 & sex &  & female &  & male & 11 & Union\\{Missing, CategoricalValue\\{String, UInt32\\}\\} \\\\\n",
       "\t4 & bill\\_length\\_mm & 43.9219 & 32.1 & 44.45 & 59.6 & 2 & Union\\{Missing, Float64\\} \\\\\n",
       "\t5 & bill\\_depth\\_mm & 17.1512 & 13.1 & 17.3 & 21.5 & 2 & Union\\{Missing, Float64\\} \\\\\n",
       "\t6 & body\\_mass\\_g & 4201.75 & 2700 & 4050.0 & 6300 & 2 & Union\\{Missing, Int64\\} \\\\\n",
       "\\end{tabular}\n"
      ],
      "text/plain": [
       "\u001b[1m6×7 DataFrame\u001b[0m\n",
       "\u001b[1m Row \u001b[0m│\u001b[1m variable       \u001b[0m\u001b[1m mean    \u001b[0m\u001b[1m min    \u001b[0m\u001b[1m median \u001b[0m\u001b[1m max       \u001b[0m\u001b[1m nmissing \u001b[0m\u001b[1m eltype   \u001b[0m ⋯\n",
       "     │\u001b[90m Symbol         \u001b[0m\u001b[90m Union…  \u001b[0m\u001b[90m Any    \u001b[0m\u001b[90m Union… \u001b[0m\u001b[90m Any       \u001b[0m\u001b[90m Int64    \u001b[0m\u001b[90m Type     \u001b[0m ⋯\n",
       "─────┼──────────────────────────────────────────────────────────────────────────\n",
       "   1 │ species        \u001b[90m         \u001b[0m Adelie \u001b[90m        \u001b[0m Gentoo            0  Categoric ⋯\n",
       "   2 │ island         \u001b[90m         \u001b[0m Biscoe \u001b[90m        \u001b[0m Torgersen         0  Categoric\n",
       "   3 │ sex            \u001b[90m         \u001b[0m female \u001b[90m        \u001b[0m male             11  Union{Mis\n",
       "   4 │ bill_length_mm  43.9219  32.1    44.45   59.6              2  Union{Mis\n",
       "   5 │ bill_depth_mm   17.1512  13.1    17.3    21.5              2  Union{Mis ⋯\n",
       "   6 │ body_mass_g     4201.75  2700    4050.0  6300              2  Union{Mis\n",
       "\u001b[36m                                                                1 column omitted\u001b[0m"
      ]
     },
     "metadata": {},
     "output_type": "display_data"
    }
   ],
   "source": [
    "#move bill_length_mm to after sex\n",
    "select!(penguins, :species, :island, :sex, :bill_length_mm, :bill_depth_mm, :body_mass_g)\n",
    "\n",
    "describe(penguins)"
   ]
  }
 ],
 "metadata": {
  "kernelspec": {
   "display_name": "Julia 1.11.5",
   "language": "julia",
   "name": "julia-1.11"
  },
  "language_info": {
   "file_extension": ".jl",
   "mimetype": "application/julia",
   "name": "julia",
   "version": "1.11.5"
  }
 },
 "nbformat": 4,
 "nbformat_minor": 2
}
